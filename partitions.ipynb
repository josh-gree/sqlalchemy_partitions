{
 "cells": [
  {
   "cell_type": "code",
   "execution_count": 1,
   "metadata": {},
   "outputs": [
    {
     "name": "stdout",
     "output_type": "stream",
     "text": [
      "2019-01-21 19:22:54,321 INFO sqlalchemy.engine.base.Engine select version()\n",
      "2019-01-21 19:22:54,322 INFO sqlalchemy.engine.base.Engine {}\n",
      "2019-01-21 19:22:54,324 INFO sqlalchemy.engine.base.Engine select current_schema()\n",
      "2019-01-21 19:22:54,325 INFO sqlalchemy.engine.base.Engine {}\n",
      "2019-01-21 19:22:54,328 INFO sqlalchemy.engine.base.Engine SELECT CAST('test plain returns' AS VARCHAR(60)) AS anon_1\n",
      "2019-01-21 19:22:54,329 INFO sqlalchemy.engine.base.Engine {}\n",
      "2019-01-21 19:22:54,331 INFO sqlalchemy.engine.base.Engine SELECT CAST('test unicode returns' AS VARCHAR(60)) AS anon_1\n",
      "2019-01-21 19:22:54,332 INFO sqlalchemy.engine.base.Engine {}\n",
      "2019-01-21 19:22:54,334 INFO sqlalchemy.engine.base.Engine show standard_conforming_strings\n",
      "2019-01-21 19:22:54,335 INFO sqlalchemy.engine.base.Engine {}\n",
      "2019-01-21 19:22:54,340 INFO sqlalchemy.engine.base.Engine select relname from pg_class c join pg_namespace n on n.oid=c.relnamespace where pg_catalog.pg_table_is_visible(c.oid) and relname=%(name)s\n",
      "2019-01-21 19:22:54,341 INFO sqlalchemy.engine.base.Engine {'name': 'calls'}\n",
      "2019-01-21 19:22:54,345 INFO sqlalchemy.engine.base.Engine \n",
      "CREATE TABLE calls (\n",
      "\tid SERIAL NOT NULL, \n",
      "\tts TIMESTAMP WITHOUT TIME ZONE, \n",
      "\tPRIMARY KEY (id)\n",
      ")\n",
      "\n",
      "\n",
      "2019-01-21 19:22:54,347 INFO sqlalchemy.engine.base.Engine {}\n",
      "2019-01-21 19:22:54,359 INFO sqlalchemy.engine.base.Engine COMMIT\n"
     ]
    },
    {
     "name": "stderr",
     "output_type": "stream",
     "text": [
      "/Users/joshuagreenhalgh/.local/share/virtualenvs/sqlalchemy_architect-_WRA_Hx9/lib/python3.6/site-packages/psycopg2/__init__.py:144: UserWarning: The psycopg2 wheel package will be renamed from release 2.8; in order to keep installing from binary please use \"pip install psycopg2-binary\" instead. For details see: <http://initd.org/psycopg/docs/install.html#binary-install-from-pypi>.\n",
      "  \"\"\")\n"
     ]
    }
   ],
   "source": [
    "import os\n",
    "import architect\n",
    "\n",
    "from datetime import datetime\n",
    "\n",
    "from sqlalchemy import create_engine\n",
    "from sqlalchemy.orm import sessionmaker\n",
    "from sqlalchemy import Column, String, DateTime, Integer\n",
    "from sqlalchemy.ext.declarative import declarative_base\n",
    "\n",
    "engine = create_engine(os.environ[\"DB_CONN_STR\"],echo=True)\n",
    "Session = sessionmaker(bind=engine)\n",
    "\n",
    "Base = declarative_base()\n",
    "\n",
    "@architect.install('partition', type='range', subtype='date', constraint='day', column='ts', db=os.environ[\"DB_CONN_STR\"])\n",
    "class Calls(Base):\n",
    "    __tablename__ = 'calls'\n",
    "    id = Column(Integer, primary_key=True)\n",
    "    ts = Column(DateTime)\n",
    "    \n",
    "Base.metadata.create_all(engine)"
   ]
  },
  {
   "cell_type": "code",
   "execution_count": 2,
   "metadata": {},
   "outputs": [
    {
     "data": {
      "text/plain": [
       "<sqlalchemy.engine.result.ResultProxy at 0x1125222e8>"
      ]
     },
     "execution_count": 2,
     "metadata": {},
     "output_type": "execute_result"
    }
   ],
   "source": [
    "Calls.architect.partition.get_partition().prepare()"
   ]
  },
  {
   "cell_type": "code",
   "execution_count": 8,
   "metadata": {},
   "outputs": [
    {
     "name": "stdout",
     "output_type": "stream",
     "text": [
      "2019-01-21 19:24:53,357 INFO sqlalchemy.engine.base.Engine BEGIN (implicit)\n",
      "2019-01-21 19:24:53,362 INFO sqlalchemy.engine.base.Engine INSERT INTO calls (ts) VALUES (%(ts)s) RETURNING calls.id\n",
      "2019-01-21 19:24:53,363 INFO sqlalchemy.engine.base.Engine {'ts': datetime.datetime(2016, 1, 1, 12, 0)}\n",
      "2019-01-21 19:24:53,370 INFO sqlalchemy.engine.base.Engine INSERT INTO calls (ts) VALUES (%(ts)s) RETURNING calls.id\n",
      "2019-01-21 19:24:53,371 INFO sqlalchemy.engine.base.Engine {'ts': datetime.datetime(2016, 1, 2, 12, 0)}\n",
      "2019-01-21 19:24:53,373 INFO sqlalchemy.engine.base.Engine INSERT INTO calls (ts) VALUES (%(ts)s) RETURNING calls.id\n",
      "2019-01-21 19:24:53,374 INFO sqlalchemy.engine.base.Engine {'ts': datetime.datetime(2016, 1, 4, 12, 0)}\n",
      "2019-01-21 19:24:53,380 INFO sqlalchemy.engine.base.Engine COMMIT\n"
     ]
    }
   ],
   "source": [
    "session = Session()\n",
    "r1 = Calls(ts=datetime.strptime('2016-01-01 12:00','%Y-%m-%d %H:%M'))\n",
    "r2 = Calls(ts=datetime.strptime('2016-01-02 12:00','%Y-%m-%d %H:%M'))\n",
    "r3 = Calls(ts=datetime.strptime('2016-01-03 12:00','%Y-%m-%d %H:%M'))\n",
    "r3 = Calls(ts=datetime.strptime('2016-01-04 12:00','%Y-%m-%d %H:%M'))\n",
    "session.add(r1)\n",
    "session.add(r2)\n",
    "session.add(r3)\n",
    "session.commit()"
   ]
  },
  {
   "cell_type": "code",
   "execution_count": 9,
   "metadata": {},
   "outputs": [
    {
     "name": "stdout",
     "output_type": "stream",
     "text": [
      "2019-01-21 19:24:55,509 INFO sqlalchemy.engine.base.Engine BEGIN (implicit)\n",
      "2019-01-21 19:24:55,510 INFO sqlalchemy.engine.base.Engine \n",
      "SELECT table_schema,table_name\n",
      "FROM information_schema.tables\n",
      "WHERE table_name LIKE 'calls%%'\n",
      "ORDER BY table_schema,table_name;\n",
      "\n",
      "2019-01-21 19:24:55,511 INFO sqlalchemy.engine.base.Engine {}\n"
     ]
    },
    {
     "data": {
      "text/plain": [
       "[('public', 'calls'),\n",
       " ('public', 'calls_y2016d001'),\n",
       " ('public', 'calls_y2016d002'),\n",
       " ('public', 'calls_y2016d003'),\n",
       " ('public', 'calls_y2016d004')]"
      ]
     },
     "execution_count": 9,
     "metadata": {},
     "output_type": "execute_result"
    }
   ],
   "source": [
    "sql = '''\n",
    "SELECT table_schema,table_name\n",
    "FROM information_schema.tables\n",
    "WHERE table_name LIKE 'calls%'\n",
    "ORDER BY table_schema,table_name;\n",
    "'''\n",
    "res = session.execute(sql)\n",
    "res.fetchall()"
   ]
  },
  {
   "cell_type": "code",
   "execution_count": 17,
   "metadata": {},
   "outputs": [
    {
     "name": "stdout",
     "output_type": "stream",
     "text": [
      "2019-01-21 19:32:31,899 INFO sqlalchemy.engine.base.Engine \n",
      "EXPLAIN \n",
      "SELECT * from calls\n",
      "WHERE ts >= '2016-01-02'::timestamp AND ts < '2016-01-03'::timestamp\n",
      "\n",
      "2019-01-21 19:32:31,901 INFO sqlalchemy.engine.base.Engine {}\n"
     ]
    },
    {
     "data": {
      "text/plain": [
       "[('Append  (cost=0.00..44.71 rows=11 width=12)',),\n",
       " ('  ->  Seq Scan on calls  (cost=0.00..4.06 rows=1 width=12)',),\n",
       " (\"        Filter: ((ts >= '2016-01-02 00:00:00'::timestamp without time zone) AND (ts < '2016-01-03 00:00:00'::timestamp without time zone))\",),\n",
       " ('  ->  Seq Scan on calls_y2016d002  (cost=0.00..40.60 rows=10 width=12)',),\n",
       " (\"        Filter: ((ts >= '2016-01-02 00:00:00'::timestamp without time zone) AND (ts < '2016-01-03 00:00:00'::timestamp without time zone))\",)]"
      ]
     },
     "execution_count": 17,
     "metadata": {},
     "output_type": "execute_result"
    }
   ],
   "source": [
    "sql = '''\n",
    "EXPLAIN \n",
    "SELECT * from calls\n",
    "WHERE ts >= '2016-01-02'::timestamp AND ts < '2016-01-03'::timestamp\n",
    "'''\n",
    "\n",
    "res = session.execute(sql)\n",
    "res.fetchall()"
   ]
  },
  {
   "cell_type": "code",
   "execution_count": 18,
   "metadata": {},
   "outputs": [
    {
     "name": "stdout",
     "output_type": "stream",
     "text": [
      "2019-01-21 19:32:34,787 INFO sqlalchemy.engine.base.Engine \n",
      "EXPLAIN \n",
      "SELECT * from calls\n",
      "WHERE ts >= '2016-01-01'::timestamp AND ts < '2016-01-03'::timestamp\n",
      "\n",
      "2019-01-21 19:32:34,788 INFO sqlalchemy.engine.base.Engine {}\n"
     ]
    },
    {
     "data": {
      "text/plain": [
       "[('Append  (cost=0.00..85.36 rows=21 width=12)',),\n",
       " ('  ->  Seq Scan on calls  (cost=0.00..4.06 rows=1 width=12)',),\n",
       " (\"        Filter: ((ts >= '2016-01-01 00:00:00'::timestamp without time zone) AND (ts < '2016-01-03 00:00:00'::timestamp without time zone))\",),\n",
       " ('  ->  Seq Scan on calls_y2016d001  (cost=0.00..40.60 rows=10 width=12)',),\n",
       " (\"        Filter: ((ts >= '2016-01-01 00:00:00'::timestamp without time zone) AND (ts < '2016-01-03 00:00:00'::timestamp without time zone))\",),\n",
       " ('  ->  Seq Scan on calls_y2016d002  (cost=0.00..40.60 rows=10 width=12)',),\n",
       " (\"        Filter: ((ts >= '2016-01-01 00:00:00'::timestamp without time zone) AND (ts < '2016-01-03 00:00:00'::timestamp without time zone))\",)]"
      ]
     },
     "execution_count": 18,
     "metadata": {},
     "output_type": "execute_result"
    }
   ],
   "source": [
    "sql = '''\n",
    "EXPLAIN \n",
    "SELECT * from calls\n",
    "WHERE ts >= '2016-01-01'::timestamp AND ts < '2016-01-03'::timestamp\n",
    "'''\n",
    "\n",
    "res = session.execute(sql)\n",
    "res.fetchall()"
   ]
  },
  {
   "cell_type": "code",
   "execution_count": null,
   "metadata": {},
   "outputs": [],
   "source": []
  }
 ],
 "metadata": {
  "kernelspec": {
   "display_name": "Python 3",
   "language": "python",
   "name": "python3"
  },
  "language_info": {
   "codemirror_mode": {
    "name": "ipython",
    "version": 3
   },
   "file_extension": ".py",
   "mimetype": "text/x-python",
   "name": "python",
   "nbconvert_exporter": "python",
   "pygments_lexer": "ipython3",
   "version": "3.6.7"
  }
 },
 "nbformat": 4,
 "nbformat_minor": 2
}
